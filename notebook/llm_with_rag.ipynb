{
 "cells": [
  {
   "cell_type": "code",
   "execution_count": 2,
   "metadata": {},
   "outputs": [
    {
     "name": "stderr",
     "output_type": "stream",
     "text": [
      "h:\\Programs\\RAG-LLM_Helpdesk_synthetic-data\\.venv\\Lib\\site-packages\\tqdm\\auto.py:21: TqdmWarning: IProgress not found. Please update jupyter and ipywidgets. See https://ipywidgets.readthedocs.io/en/stable/user_install.html\n",
      "  from .autonotebook import tqdm as notebook_tqdm\n",
      "None of PyTorch, TensorFlow >= 2.0, or Flax have been found. Models won't be available and only tokenizers, configuration and file/data utilities can be used.\n"
     ]
    }
   ],
   "source": [
    "import os\n",
    "from dotenv import load_dotenv\n",
    "load_dotenv()\n",
    "import faiss\n",
    "from langchain_openai import OpenAIEmbeddings\n",
    "from langchain_community.vectorstores import FAISS\n",
    "import pandas as pd\n",
    "import sqlite3\n",
    "from langchain.prompts import ChatPromptTemplate\n",
    "from llama_index.llms.groq import Groq"
   ]
  },
  {
   "cell_type": "code",
   "execution_count": 3,
   "metadata": {},
   "outputs": [],
   "source": [
    "groq_api_key = os.getenv(\"GROQ_API_KEY\")"
   ]
  },
  {
   "cell_type": "code",
   "execution_count": 4,
   "metadata": {},
   "outputs": [],
   "source": [
    "SQL_DB_PATH = \"../database/csv_database.db\"\n",
    "FAISS_INDEX_PATH = \"../database/faiss_index\""
   ]
  },
  {
   "cell_type": "code",
   "execution_count": 5,
   "metadata": {},
   "outputs": [],
   "source": [
    "# embedding function\n",
    "def get_embeddings():\n",
    "    embeddings = OpenAIEmbeddings(model=\"text-embedding-3-large\")\n",
    "    return embeddings"
   ]
  },
  {
   "cell_type": "code",
   "execution_count": 6,
   "metadata": {},
   "outputs": [],
   "source": [
    "# LLM model\n",
    "llm = Groq(model=\"llama-3.1-8b-instant\", api_key=groq_api_key)"
   ]
  },
  {
   "cell_type": "code",
   "execution_count": 7,
   "metadata": {},
   "outputs": [],
   "source": [
    "# Prompt Template\n",
    "PROMPT_TEMPLATE =\"\"\"\n",
    "    Jawab pertanyaan berdasarkan konteks dari PDF berikut: \n",
    "\n",
    "    {context}\n",
    "\n",
    "    ---\n",
    "\n",
    "    **Pertanyaan:**\n",
    "    {question}\n",
    "\n",
    "    ---\n",
    "    Hanya lanjutkan ke bagian di bawah ini jika benar-benar tidak ada informasi spesifik dalam konteks.\n",
    "    Jika pertanyaan yang diberikan terkait data riwayat penggunaan dan tidak ada informasi spesifik dalam konteks, jawablah dengan **SQL query** yang sesuai dengan contoh tabel berikut:\n",
    "\n",
    "    **Nama Tabel:** `synthetic_data`\n",
    "\n",
    "    **Contoh Data dalam Tabel (Format JSON, hanya contoh, tidak digunakan langsung dalam query):**\n",
    "    ```json\n",
    "    [\n",
    "        {{\"interaction_id\":1,\"user_id\":447,\"timestamp\":\"2024-03-12 17:56:48\",\"device_type\":\"Smart Speaker\",\"command_category\":\"Information\",\"command_text\":\"Apa rekomendasi restoran di sekitar sini?\",\"ai_response\":\"Akses ditolak\",\"response_time_ms\":310,\"ai_confidence_score\":67.97,\"user_satisfaction\":4,\"status\":\"Error\",\"error_code\":\"ERR403\"}},\n",
    "        {{\"interaction_id\":2,\"user_id\":469,\"timestamp\":\"2024-12-01 06:40:13\",\"device_type\":\"Smartphone\",\"command_category\":\"Productivity\",\"command_text\":\"Bagikan agenda meeting dengan anggota tim\",\"ai_response\":\"Tugas telah disimpan\",\"response_time_ms\":315,\"ai_confidence_score\":70.04,\"user_satisfaction\":5,\"status\":\"Success\",\"error_code\":null}}\n",
    "    ]\n",
    "    ```\n",
    "    Hanya jawab query SQL dalam bentuk string, tanpa memberi jawaban yang lain.\n",
    "\n",
    "    ---\n",
    "    Hanya jawab query SQL, jika tidak ada data yang sesuai dalam konteks.\n",
    "\"\"\"\n",
    "\n",
    "PROMPT_DB = \"\"\"\n",
    "    Jawab pertanyaan berdasarkan hasil query SQL yang diberikan di bawah ini:\n",
    "    {sql_query_result}\n",
    "\n",
    "    ---\n",
    "    Jawab pertanyaan berikut:\n",
    "    {question}\n",
    "\n",
    "    Jawab tanpa menyebutkan penggunaan query SQL, tetapi parafrase pertanyaan untuk memberi jawaban yang natural.\n",
    "\"\"\""
   ]
  },
  {
   "cell_type": "code",
   "execution_count": 8,
   "metadata": {},
   "outputs": [],
   "source": [
    "def query_retrieval(question: str):\n",
    "    # Load embeddings & vector store\n",
    "    embeddings = get_embeddings()\n",
    "    vector_store = FAISS.load_local(FAISS_INDEX_PATH, embeddings, allow_dangerous_deserialization=True)\n",
    "\n",
    "    # Search vector store\n",
    "    results = vector_store.similarity_search(question, k=5)\n",
    "    if not results:\n",
    "        return \"Maaf, saya tidak menemukan informasi yang relevan dalam dokumen.\"\n",
    "\n",
    "    context_text = '\\n\\n---\\n\\n'.join(doc.page_content for doc in results)\n",
    "\n",
    "    # Prepare prompt with clear formatting\n",
    "    prompt_template = ChatPromptTemplate.from_template(PROMPT_TEMPLATE)\n",
    "    prompt = prompt_template.format(context=context_text, question=question)\n",
    "\n",
    "    # Generate response using LLM\n",
    "    response = llm.complete(prompt)\n",
    "    response = str(response)\n",
    "\n",
    "    # Validate if response contains an SQL query\n",
    "    if \"synthetic_data\" in response:  \n",
    "        # Take SQL query from response\n",
    "        response = response.split(\"```sql\")[1].strip()\n",
    "        response = response.split(\"```\")[0].strip()\n",
    "\n",
    "        try:\n",
    "            # Connect to SQLite database\n",
    "            conn = sqlite3.connect(SQL_DB_PATH)\n",
    "\n",
    "            # Execute SQL query safely\n",
    "            sql_query_result = pd.read_sql_query(response, conn)\n",
    "            conn.close()\n",
    "\n",
    "            # If DataFrame is empty, return error message\n",
    "            if sql_query_result.empty:\n",
    "                return \"Query berhasil dijalankan, tetapi tidak ada hasil yang ditemukan.\"\n",
    "\n",
    "            # Convert DataFrame to JSON format string\n",
    "            query_result_str = sql_query_result.to_json(orient=\"records\")\n",
    "\n",
    "            # Prepare second-stage prompt (SQL result → natural language)\n",
    "            prompt_db = ChatPromptTemplate.from_template(PROMPT_DB)\n",
    "            final_prompt = prompt_db.format(sql_query_result=query_result_str, question=question)\n",
    "\n",
    "            # Generate final response\n",
    "            response = llm.complete (final_prompt)\n",
    "\n",
    "            return response\n",
    "        \n",
    "        except sqlite3.Error as e:\n",
    "            return f\"Terjadi kesalahan SQL: {e}\"\n",
    "    \n",
    "    return response"
   ]
  },
  {
   "cell_type": "code",
   "execution_count": 18,
   "metadata": {},
   "outputs": [
    {
     "data": {
      "text/plain": [
       "'Berikut adalah jawaban untuk pertanyaan tentang langkah pemeliharaan rutin AI Assistant X-3000:\\n\\nPemeliharaan rutin AI Assistant X-3000 meliputi beberapa langkah, yaitu:\\n\\n1. Pemeliharaan Hardware: Bersihkan sensor dan kamera setiap 2 minggu, kalibrasi ulang daya setiap 3 bulan, dan pastikan casing dan layar sentuh tetap bersih.\\n2. Pemeliharaan Software: Perbarui sistem operasi dan firmware secara berkala, hapus cache dan data lama setiap 1 bulan, dan restart perangkat minimal seminggu sekali.\\n3. Pemeliharaan Keamanan: Pastikan sistem keamanan tetap terupdate, hapus cache sistem secara berkala, dan atur agar histori perintah suara dan interaksi dihapus otomatis setiap 30 hari.\\n\\nDengan melakukan pemeliharaan rutin ini, AI Assistant X-3000 akan tetap berfungsi dengan optimal dan siap digunakan kapan saja.'"
      ]
     },
     "execution_count": 18,
     "metadata": {},
     "output_type": "execute_result"
    }
   ],
   "source": [
    "# prompt\n",
    "question = 'Apa langkah pemeliharaan rutin AI Assistant X-3000?'\n",
    "response = query_retrieval(question)\n",
    "response"
   ]
  },
  {
   "cell_type": "code",
   "execution_count": 13,
   "metadata": {},
   "outputs": [
    {
     "name": "stdout",
     "output_type": "stream",
     "text": [
      "Rata-rata kepuasan pengguna AI Assistant X-3000 sebelumnya adalah sekitar 3,44.\n"
     ]
    }
   ],
   "source": [
    "# prompt\n",
    "question = 'Berapa rata-rata kepuasan pengguna AI Assistant X-3000 sebelumnya?'\n",
    "response = query_retrieval(question)\n",
    "print(response)"
   ]
  },
  {
   "cell_type": "code",
   "execution_count": 15,
   "metadata": {},
   "outputs": [
    {
     "name": "stdout",
     "output_type": "stream",
     "text": [
      "Jenis perangkat yang digunakan oleh pengguna AI Assistant X-3000 adalah Smartphone, Smart Hub, Smart TV, Smart Speaker, dan Laptop.\n"
     ]
    }
   ],
   "source": [
    "# prompt\n",
    "question = 'Apa saja jenis perangkat yang digunakan oleh pengguna AI Assistant X-3000?'\n",
    "response = query_retrieval(question)\n",
    "print(response)"
   ]
  },
  {
   "cell_type": "code",
   "execution_count": 16,
   "metadata": {},
   "outputs": [
    {
     "data": {
      "text/plain": [
       "'Teknologi yang digunakan untuk pengenalan wajah AI Assistant X-3000 adalah kamera RGB & IR. Kamera ini bertugas melakukan pengenalan wajah dan pemantauan lingkungan.'"
      ]
     },
     "execution_count": 16,
     "metadata": {},
     "output_type": "execute_result"
    }
   ],
   "source": [
    "# prompt\n",
    "question = 'Apa teknologi yang digunakan untuk pengenalan wajah AI Assistant X-3000?'\n",
    "response = query_retrieval(question)\n",
    "response"
   ]
  },
  {
   "cell_type": "code",
   "execution_count": 12,
   "metadata": {},
   "outputs": [
    {
     "name": "stdout",
     "output_type": "stream",
     "text": [
      "Fitur utama AI Assistant X-3000 adalah kemampuan memberikan informasi dan rekomendasi yang relevan kepada pengguna, seperti rekomendasi restoran di sekitar lokasi pengguna. Namun, perlu diingat bahwa dalam contoh yang diberikan, AI Assistant X-3000 mengalami kesalahan akses dan tidak dapat memberikan informasi yang diinginkan.\n"
     ]
    }
   ],
   "source": [
    "# prompt\n",
    "question = 'Apa fitur utama AI Assistant X-3000?'\n",
    "response = query_retrieval(question)\n",
    "print(response)"
   ]
  },
  {
   "cell_type": "code",
   "execution_count": 13,
   "metadata": {},
   "outputs": [
    {
     "name": "stdout",
     "output_type": "stream",
     "text": [
      "Jika AI tidak merespons perintah suara, ada beberapa langkah yang dapat dilakukan untuk melakukan troubleshooting:\n",
      "\n",
      "1. **Periksa koneksi internet**: Pastikan perangkat Anda terhubung ke jaringan internet yang stabil dan cepat. Koneksi internet yang lemah dapat menyebabkan AI tidak dapat merespons perintah suara.\n",
      "2. **Periksa status perangkat**: Pastikan perangkat Anda dalam keadaan aktif dan siap digunakan. Jika perangkat Anda dalam keadaan mati atau tidak dapat diakses, AI tidak dapat merespons perintah suara.\n",
      "3. **Periksa pengaturan AI**: Pastikan pengaturan AI dalam keadaan yang tepat. Jika pengaturan AI salah, AI tidak dapat merespons perintah suara.\n",
      "4. **Periksa perintah suara**: Pastikan perintah suara yang diberikan tepat dan jelas. Jika perintah suara tidak jelas atau salah, AI tidak dapat merespons perintah suara.\n",
      "5. **Periksa log error**: Periksa log error untuk mengetahui penyebab error yang terjadi. Jika log error menunjukkan error kode \"ERR403\", maka kemungkinan besar masalahnya adalah karena akses yang ditolak.\n",
      "\n",
      "Dengan melakukan langkah-langkah di atas, Anda dapat melakukan troubleshooting untuk mengetahui penyebab AI tidak merespons perintah suara.\n"
     ]
    }
   ],
   "source": [
    "# prompt\n",
    "question = 'Bagaimana cara troubleshooting jika AI tidak merespons perintah suara?'\n",
    "response = query_retrieval(question)\n",
    "print(response)"
   ]
  },
  {
   "cell_type": "code",
   "execution_count": 14,
   "metadata": {},
   "outputs": [
    {
     "name": "stdout",
     "output_type": "stream",
     "text": [
      "Untuk menghubungkan AI Assistant X-3000 ke Wi-Fi, ikuti langkah-langkah berikut:\n",
      "\n",
      "1. Pilih opsi \"Pengaturan Jaringan\" di layar perangkat.\n",
      "2. AI Assistant X-3000 akan memindai jaringan Wi-Fi yang tersedia.\n",
      "3. Pilih jaringan yang diinginkan dan masukkan kata sandi.\n",
      "4. Setelah terhubung, ikon Wi-Fi akan muncul di layar.\n",
      "\n",
      "Catatan: AI Assistant X-3000 mendukung jaringan Wi-Fi 6 (2.4GHz & 5GHz) untuk koneksi stabil dan cepat. Jika terjadi kegagalan koneksi, pengguna dapat mencoba reset koneksi melalui menu troubleshooting.\n"
     ]
    }
   ],
   "source": [
    "# prompt\n",
    "question = 'Jelaskan cara menghubungkan AI Assistant X-3000 ke Wi-Fi.'\n",
    "response = query_retrieval(question)\n",
    "print(response)"
   ]
  },
  {
   "cell_type": "code",
   "execution_count": 9,
   "metadata": {},
   "outputs": [
    {
     "name": "stdout",
     "output_type": "stream",
     "text": [
      "[{'instruction': 'Deskripsikan produk AI Assistant X-3000.', 'response': 'Berikut adalah jawaban untuk pertanyaan \"Deskripsikan produk AI Assistant X-3000\":\\n\\nAI Assistant X-3000 adalah robot asisten pintar generasi terbaru yang dirancang untuk membantu pengguna dalam berbagai tugas sehari-hari di rumah, kantor, dan lingkungan industri. Dengan kemampuan kecerdasan buatan (AI) tingkat lanjut, robot ini dapat memahami perintah suara, mengenali wajah, serta beradaptasi dengan kebiasaan pengguna untuk memberikan layanan yang lebih personal dan efisien. Dilengkapi dengan sensor canggih, pemrosesan bahasa alami (NLP), dan konektivitas Internet of Things (IoT), AI Assistant X-3000 mampu berinteraksi dengan berbagai perangkat pintar dalam ekosistem rumah dan kantor. Teknologi utama yang digunakan dalam AI Assistant X-3000 mencakup prosesor AI berkecepatan tinggi, kamera multi-spektrum dengan kemampuan pengenalan wajah dan objek, serta sensor LiDAR dan ultrasonik untuk navigasi mandiri yang presisi.'}, {'instruction': 'Apa saja fitur yang dimiliki oleh AI Assistant X-3000?', 'response': 'Berikut adalah jawaban untuk pertanyaan tentang fitur yang dimiliki oleh AI Assistant X-3000:\\n\\nAI Assistant X-3000 hadir dengan berbagai fitur canggih yang dirancang untuk meningkatkan efisiensi dan kenyamanan pengguna. Beberapa fitur utama yang dimiliki oleh AI Assistant X-3000 adalah:\\n\\n1. Interaksi Suara dan Visual: AI Assistant X-3000 dapat memproses perintah suara dan memberikan respons secara visual maupun auditori.\\n2. Navigasi Otomatis dan Penghindaran Hambatan: AI Assistant X-3000 dapat bergerak secara mandiri serta menghindari rintangan dengan akurasi tinggi.\\n3. Kontrol Smart Home: AI Assistant X-3000 dapat mengatur lampu, suhu ruangan, dan keamanan rumah sesuai dengan jadwal.\\n4. Pengingat Otomatis: AI Assistant X-3000 dapat memberikan pengingat otomatis untuk pengguna.\\n5. Manajemen Jadwal: AI Assistant X-3000 dapat membantu pengguna dalam manajemen jadwal.\\n6. Integrasi dengan Kalender Digital: AI Assistant X-3000 dapat diintegrasikan dengan kalender digital.\\n7. Navigasi Bebas: AI Assistant X-3000 dapat beroperasi secara otonom untuk navigasi bebas.\\n8. Pemantauan Inventaris: AI Assistant X-3000 dapat membantu pengguna dalam pemantauan inventaris.\\n9. Laporan Analitik Otomatis: AI Assistant X-3000 dapat memberikan laporan analitik otomatis.\\n\\nDengan demikian, AI Assistant X-3000 dapat membantu pengguna dalam berbagai tugas sehari-hari dan meningkatkan efisiensi dan kenyamanan pengguna.'}, {'instruction': 'Bagaimana cara mengatur lokasi ideal untuk AI Assistant X-3000?', 'response': 'Untuk mengatur lokasi ideal untuk AI Assistant X-3000, Anda perlu memastikan beberapa kondisi berikut:\\n\\n1. Permukaan yang datar dan stabil: Hindari permukaan miring atau berbahan lunak seperti karpet tebal.\\n2. Jauh dari sumber air dan panas berlebih: Jangan tempatkan di dekat kompor, pemanas ruangan, atau area dengan kelembapan tinggi.\\n3. Area dengan ruang gerak cukup: Pastikan ada minimal 1 meter ruang kosong di sekelilingnya agar robot dapat bermanuver tanpa hambatan.\\n4. Dekat dengan sumber daya listrik: Untuk memudahkan proses pengisian daya otomatis ke charging dock.\\n\\nDengan memenuhi kondisi-kondisi di atas, AI Assistant X-3000 dapat bergerak dan berfungsi dengan baik.'}, {'instruction': 'Bagaimana cara menghubungkan AI Assistant X-3000 ke Wi-Fi?', 'response': 'Untuk menghubungkan AI Assistant X-3000 ke Wi-Fi, ikuti langkah-langkah berikut:\\n\\n1. Pilih opsi \"Pengaturan Jaringan\" di layar perangkat.\\n2. AI Assistant X-3000 akan memindai jaringan Wi-Fi yang tersedia.\\n3. Pilih jaringan yang diinginkan dan masukkan kata sandi.\\n4. Setelah terhubung, ikon Wi-Fi akan muncul di layar.\\n\\nCatatan: AI Assistant X-3000 mendukung jaringan Wi-Fi 6 (2.4GHz & 5GHz) untuk koneksi stabil dan cepat. Jika terjadi kegagalan koneksi, pengguna dapat mencoba reset koneksi melalui menu troubleshooting.'}, {'instruction': 'Bagaimana cara mengkalibrasi wajah dan suara pada AI Assistant X-3000?', 'response': 'Untuk mengkalibrasi wajah dan suara pada AI Assistant X-3000, ikuti langkah-langkah berikut:\\n\\n**Kalibrasi Wajah:**\\n\\n1. Pilih opsi \"Kalibrasi Wajah\" dalam menu pengaturan.\\n2. Berdiri di depan AI Assistant X-3000 dengan jarak 30-50 cm.\\n3. Robot akan memindai wajah pengguna dari beberapa sudut untuk memastikan akurasi pengenalan.\\n4. Jika berhasil, sistem akan menyimpan data wajah dan mengaktifkan fitur \"Unlock with Face ID\".\\n\\n**Kalibrasi Suara:**\\n\\n1. Pilih opsi \"Kalibrasi Suara\" dalam menu pengaturan.\\n2. AI Assistant X-3000 akan meminta pengguna untuk mengucapkan beberapa perintah standar, seperti:\\n * \"Halo AI Assistant, nyalakan lampu.\"\\n * \"Atur pengingat untuk rapat besok jam 10 pagi.\"\\n3. Sistem akan menganalisis pola suara dan aksen pengguna.\\n4. Jika berhasil, AI Assistant X-3000 akan lebih responsif terhadap suara pengguna utama.\\n\\nDengan mengikuti langkah-langkah di atas, pengguna dapat mengkalibrasi wajah dan suara pada AI Assistant X-3000 untuk meningkatkan akurasi pengenalan dan responsifitas perangkat.'}, {'instruction': 'Apa yang harus dilakukan jika AI Assistant X-3000 tidak terhubung ke Wi-Fi?', 'response': 'Query berhasil dijalankan, tetapi tidak ada hasil yang ditemukan.'}, {'instruction': 'Deskripsikan bagaimana AI Assistant X-3000 mengelola data pengguna.', 'response': 'Berikut adalah jawaban untuk pertanyaan tentang bagaimana AI Assistant X-3000 mengelola data pengguna:\\n\\nAI Assistant X-3000 memiliki sistem keamanan yang canggih untuk melindungi privasi pengguna serta memastikan bahwa data yang dikumpulkan tidak disalahgunakan. Berikut adalah beberapa cara AI Assistant X-3000 mengelola data pengguna:\\n\\n1. **Data dienkripsi sebelum dikirim ke server**: AI Assistant X-3000 menggunakan protokol keamanan tingkat tinggi untuk memastikan bahwa semua komunikasi dan data pengguna tetap aman dari serangan siber atau kebocoran data.\\n2. **Mode Privasi**: Mode Privasi memastikan kamera dan mikrofon tidak aktif jika tidak diinginkan, sehingga data pengguna tidak dapat diakses tanpa izin.\\n3. **Histori interaksi dapat dihapus otomatis**: Riwayat interaksi dan rekaman perintah suara dapat dihapus otomatis setiap 7, 14, atau 30 hari, sehingga data pengguna tidak dapat disimpan lebih lama dari yang diperlukan.\\n4. **Pengguna dapat menghapus data secara manual**: Pengguna dapat menghapus semua data secara manual melalui aplikasi AI Assistant X-3000.\\n5. **Enkripsi data end-to-end**: Semua komunikasi antara robot dan aplikasi dienkripsi untuk mencegah kebocoran informasi.\\n6. **Sistem autentikasi berbasis AI**: AI Assistant X-3000 memiliki sistem autentikasi berbasis AI yang memastikan hanya pengguna terdaftar yang dapat mengakses sistem.\\n7. **Kontrol akses multi-level**: Robot ini mendukung kontrol akses multi-level, yang memungkinkan pengguna untuk membatasi penggunaan fitur tertentu sesuai dengan kebutuhan mereka.\\n\\nDengan demikian, AI Assistant X-3000 memiliki sistem keamanan yang canggih untuk melindungi privasi pengguna dan memastikan bahwa data yang dikumpulkan tidak disalahgunakan.'}, {'instruction': 'Bagaimana cara menambahkan perangkat smart home ke AI Assistant X-3000?', 'response': 'Untuk menambahkan perangkat smart home ke AI Assistant X-3000, Anda dapat menggunakan metode auto-detection atau manual melalui aplikasi.\\n\\n**Metode Auto-Detection (Pendeteksian Otomatis)**\\n\\n1. Buka Aplikasi AI Assistant X-3000 Mobile.\\n2. Pilih \"Tambahkan Perangkat\" → \"Pindai Perangkat di Sekitar\".\\n3. AI Assistant X -3000 akan mendeteksi perangkat yang tersedia dalam jangkauan jaringan.\\n4. Pilih perangkat yang ingin ditambahkan dan konfirmasi koneksi.\\n5. Setelah sukses, perangkat akan muncul dalam daftar \"Perangkat Terhubung\".\\n\\n**Metode Manual (Jika Perangkat Tidak Terdeteksi)**\\n\\n1. Buka aplikasi AI Assistant X-3000 Mobile.\\n2. Pilih \"Tambahkan Perangkat\" → \"Input Manual\".\\n3. Masukkan alamat IP atau ID perangkat jika diperlukan.\\n4. Pilih jenis koneksi yang digunakan (Wi-Fi, Bluetooth, Zigbee, NFC).\\n5. Klik \"Sambungkan\" dan ikuti instruksi di layar.\\n\\nJika perangkat tidak terdeteksi, pastikan sudah dalam mode pairing dan beberapa perangkat mungkin memerlukan kode PIN atau autentikasi tambahan.'}, {'instruction': 'Bagaimana cara memperbarui firmware AI Assistant X-3000?', 'response': 'Berikut adalah jawaban untuk pertanyaan \"Bagaimana cara memperbarui firmware AI Assistant X-3000?\":\\n\\nPembaruan firmware AI Assistant X-3000 dapat dilakukan secara otomatis atau manual. Berikut adalah langkah-langkah pembaruan manual melalui USB/PC:\\n\\n1. Unduh file firmware terbaru dari situs resmi AI Assistant X-3000.\\n2. Hubungkan AI Assistant ke PC melalui kabel USB-C.\\n3. Gunakan aplikasi pemulihan bawaan untuk memulai proses instalasi firmware.\\n4. Ikuti instruksi hingga pembaruan selesai dan perangkat dapat digunakan kembali.\\n\\nSelain itu, pembaruan firmware juga dapat dilakukan secara otomatis melalui aplikasi pendukung, yaitu Over-The-Air (OTA) melalui Wi-Fi. Berikut adalah langkah-langkah pembaruan OTA:\\n\\n1. Pastikan AI Assistant X-3000 terhubung ke jaringan Wi-Fi yang stabil.\\n2. Buka Aplikasi AI Assistant X-3000 di perangkat mobile.\\n3. Pilih Pengaturan > Pembaruan Sistem.\\n4. Jika ada versi terbaru, pilih \"Unduh dan Instal\".\\n5. AI Assistant X-3000 akan melakukan reboot otomatis setelah pembaruan selesai.'}, {'instruction': 'Apa yang harus dilakukan jika AI Assistant X-3000 mengalami masalah dengan sensor LiDAR?', 'response': 'Query berhasil dijalankan, tetapi tidak ada hasil yang ditemukan.'}, {'instruction': 'Jelaskan fitur keamanan pada AI Assistant X-3000.', 'response': 'Fitur keamanan pada AI Assistant X-3000 meliputi:\\n\\n1. **Sistem Autentikasi Berbasis AI**: AI Assistant X-3000 memiliki sistem autentikasi yang menggunakan teknologi AI untuk mengenali pengguna dan memastikan bahwa hanya pengguna yang terdaftar yang dapat mengakses sistem.\\n2. **Enkripsi End-to-End**: AI Assistant X-3000 menggunakan enkripsi end-to-end untuk melindungi data pengguna dari serangan siber atau kebocoran data.\\n3. **Kontrol Akses Multi-Level**: AI Assistant X-3000 memiliki kontrol akses multi-level yang memungkinkan pengguna untuk membatasi penggunaan fitur tertentu sesuai dengan kebutuhan mereka.\\n4. **Pengenalan Wajah & Sidik Jari**: AI Assistant X-3000 memiliki fitur pengenalan wajah dan sidik jari yang memastikan bahwa hanya pengguna yang terdaftar yang dapat mengakses sistem.\\n5. **Kata Sandi dan Verifikasi Biometrik**: AI Assistant X-3000 menggunakan kata sandi dan verifikasi biometrik untuk login aplikasi.\\n6. **Pengenalan Suara**: AI Assistant X-3000 memiliki fitur pengenalan suara yang memungkinkan pengguna untuk memberikan perintah suara dan memastikan bahwa hanya pengguna yang terdaftar yang dapat mengakses sistem.\\n7. **Kata Sandi Dinamis**: AI Assistant X-3000 memiliki fitur kata sandi dinamis yang secara otomatis mengubah kata sandi akses dalam waktu tertentu untuk meningkatkan keamanan.\\n8. **Mode Privasi**: AI Assistant X-3000 memiliki fitur mode privasi yang memungkinkan pengguna untuk menonaktifkan kamera dan mikrofon AI secara manual melalui perintah suara atau aplikasi.\\n9. **Sistem Enkripsi dan Proteksi Data**: AI Assistant X-3000 menggunakan protokol keamanan tingkat tinggi untuk memastikan bahwa semua komunikasi dan data pengguna tetap aman dari serangan siber atau kebocoran data.\\n10. **Hanya Perangkat yang Telah Diverifikasi yang Dapat Mengakses AI Assistant X-3000**: AI Assistant X-3000 hanya dapat diakses oleh perangkat yang telah diverifikasi melalui IoT atau cloud.\\n\\nDengan demikian, AI Assistant X-3000 memiliki fitur keamanan yang canggih untuk melindungi data pengguna dan memastikan bahwa hanya pengguna yang terdaftar yang dapat mengakses sistem.'}, {'instruction': 'Bagaimana cara melakukan reset perangkat AI Assistant X-3000?', 'response': 'Untuk melakukan reset perangkat AI Assistant X-3000, Anda dapat mengikuti langkah-langkah berikut:\\n\\n1. Tekan dan tahan tombol Daya + Volume Naik selama 15 detik hingga layar masuk ke Recovery Mode.\\n2. Pilih opsi \"Reset ke Pengaturan Pabrik\" menggunakan layar sentuh.\\n3. Konfirmasi reset dengan memilih \"Ya\", lalu tunggu hingga proses selesai.\\n4. AI Assistant X-3000 akan kembali ke pengaturan awal seperti saat pertama kali digunakan.\\n\\nJika Anda ingin melakukan reset perangkat melalui aplikasi, Anda dapat mengikuti langkah-langkah berikut:\\n\\n1. Buka aplikasi AI Assistant X-3000.\\n2. Pilih menu \"Pengaturan\" atau \"Settings\".\\n3. Cari opsi \"Reset Perangkat\" atau \"Reset Device\".\\n4. Konfirmasi reset dengan memilih \"Ya\", lalu tunggu hingga proses selesai.\\n\\nPerlu diingat bahwa reset perangkat akan menghapus semua data pengguna dan kembali ke pengaturan awal seperti saat pertama kali digunakan.'}, {'instruction': 'Apa manfaat penggunaan AI Assistant X-3000 dalam kantor?', 'response': 'Berdasarkan konteks dari PDF, manfaat penggunaan AI Assistant X-3000 dalam kantor adalah:\\n\\n- Meningkatkan efisiensi rapat dari 60% menjadi 90%\\n- Meningkatkan manajemen tugas dari 70% menjadi 95%\\n- Meningkatkan pengelolaan ruang kerja dari 50% menjadi 85%\\n- Meningkatkan kolaborasi dan efisiensi kantor\\n- Mengurangi waktu yang terbuang dalam rapat\\n- Mengoptimalkan penggunaan sumber daya kantor\\n\\nDengan demikian, AI Assistant X-3000 dapat membantu meningkatkan produktivitas dan efisiensi kerja dalam lingkungan kantor.'}, {'instruction': 'Deskripsikan cara kerja sistem navigasi AI Assistant X-3000.', 'response': 'Sistem navigasi AI Assistant X-3000 menggunakan kombinasi sensor untuk mendeteksi objek di sekitarnya dan membuat peta virtual guna meningkatkan efisiensi pergerakan. Berikut adalah cara kerja sistem navigasi AI Assistant X-3000:\\n\\n1. **Deteksi Objek**: AI Assistant X-3000 menggunakan sensor LiDAR, kamera RGB, dan sensor ultrasonik untuk mendeteksi objek di sekitarnya.\\n2. **Membuat Peta Virtual**: Berdasarkan data yang diterima dari sensor, AI Assistant X-3000 membuat peta virtual ruangan yang dapat membantu robot bergerak secara mandiri dan menghindari rintangan.\\n3. **Navigasi Otomatis**: AI Assistant X-3000 dapat bergerak secara mandiri dan menghindari rintangan dengan akurasi tinggi menggunakan peta virtual yang telah dibuat.\\n4. **Perbaruan Peta**: AI Assistant X-3000 dapat memperbarui peta virtual yang telah dibuat jika terdapat perubahan pada lingkungan sekitar.\\n\\nDengan cara kerja sistem navigasi AI Assistant X-3000, robot dapat bergerak secara mandiri dan menghindari rintangan dengan akurasi tinggi, sehingga meningkatkan efisiensi pergerakan dan kenyamanan pengguna.'}]\n"
     ]
    }
   ],
   "source": [
    "# Create JSON for Fine-Tunning\n",
    "question_list = [\n",
    "    \"Deskripsikan produk AI Assistant X-3000.\",\n",
    "    \"Apa saja fitur yang dimiliki oleh AI Assistant X-3000?\",\n",
    "    \"Bagaimana cara mengatur lokasi ideal untuk AI Assistant X-3000?\",\n",
    "    \"Bagaimana cara menghubungkan AI Assistant X-3000 ke Wi-Fi?\",\n",
    "    \"Bagaimana cara mengkalibrasi wajah dan suara pada AI Assistant X-3000?\",\n",
    "    \"Apa yang harus dilakukan jika AI Assistant X-3000 tidak terhubung ke Wi-Fi?\",\n",
    "    \"Deskripsikan bagaimana AI Assistant X-3000 mengelola data pengguna.\",\n",
    "    \"Bagaimana cara menambahkan perangkat smart home ke AI Assistant X-3000?\",\n",
    "    \"Bagaimana cara memperbarui firmware AI Assistant X-3000?\",\n",
    "    \"Apa yang harus dilakukan jika AI Assistant X-3000 mengalami masalah dengan sensor LiDAR?\",\n",
    "    \"Jelaskan fitur keamanan pada AI Assistant X-3000.\",\n",
    "    \"Bagaimana cara melakukan reset perangkat AI Assistant X-3000?\",\n",
    "    \"Apa manfaat penggunaan AI Assistant X-3000 dalam kantor?\",\n",
    "    \"Deskripsikan cara kerja sistem navigasi AI Assistant X-3000.\"\n",
    "]\n",
    "\n",
    "# Create JSON for Fine-Tunning\n",
    "data = []\n",
    "for item in question_list:\n",
    "    data.append({\n",
    "        \"instruction\": item,\n",
    "        \"response\": query_retrieval(item)\n",
    "    })\n",
    "\n",
    "print(data)"
   ]
  },
  {
   "cell_type": "code",
   "execution_count": 10,
   "metadata": {},
   "outputs": [],
   "source": [
    "# save to json\n",
    "import json\n",
    "with open('../files/data.json', 'w') as f:\n",
    "    json.dump(data, f)"
   ]
  },
  {
   "cell_type": "code",
   "execution_count": null,
   "metadata": {},
   "outputs": [],
   "source": []
  }
 ],
 "metadata": {
  "kernelspec": {
   "display_name": ".venv",
   "language": "python",
   "name": "python3"
  },
  "language_info": {
   "codemirror_mode": {
    "name": "ipython",
    "version": 3
   },
   "file_extension": ".py",
   "mimetype": "text/x-python",
   "name": "python",
   "nbconvert_exporter": "python",
   "pygments_lexer": "ipython3",
   "version": "3.11.4"
  }
 },
 "nbformat": 4,
 "nbformat_minor": 2
}
