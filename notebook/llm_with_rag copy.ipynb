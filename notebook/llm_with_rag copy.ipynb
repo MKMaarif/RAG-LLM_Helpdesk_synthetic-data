{
 "cells": [
  {
   "cell_type": "code",
   "execution_count": 1,
   "metadata": {},
   "outputs": [],
   "source": [
    "# import os\n",
    "# from dotenv import load_dotenv\n",
    "# load_dotenv()\n",
    "# import faiss\n",
    "from langchain_openai import OpenAIEmbeddings\n",
    "from langchain_community.vectorstores import FAISS\n",
    "import pandas as pd\n",
    "import sqlite3\n",
    "from langchain.prompts import ChatPromptTemplate\n",
    "\n",
    "from langchain_ollama.llms import OllamaLLM"
   ]
  },
  {
   "cell_type": "code",
   "execution_count": null,
   "metadata": {},
   "outputs": [],
   "source": [
    "SQL_DB_PATH = \"../database/csv_database.db\"\n",
    "FAISS_INDEX_PATH = \"../database/faiss_index\""
   ]
  },
  {
   "cell_type": "code",
   "execution_count": 3,
   "metadata": {},
   "outputs": [],
   "source": [
    "# embedding function\n",
    "def get_embeddings():\n",
    "    embeddings = OpenAIEmbeddings(model=\"text-embedding-3-large\")\n",
    "    return embeddings"
   ]
  },
  {
   "cell_type": "code",
   "execution_count": 4,
   "metadata": {},
   "outputs": [],
   "source": [
    "# LLM model\n",
    "llm = OllamaLLM(model=\"llama3.2\")"
   ]
  },
  {
   "cell_type": "code",
   "execution_count": 5,
   "metadata": {},
   "outputs": [],
   "source": [
    "# Fixed typo & improved formatting\n",
    "PROMPT_TEMPLATE =\"\"\"\n",
    "    Jawab pertanyaan berdasarkan konteks dari PDF berikut: \n",
    "\n",
    "    {context}\n",
    "\n",
    "    ---\n",
    "\n",
    "    **Pertanyaan:**\n",
    "    {question}\n",
    "\n",
    "    ---\n",
    "\n",
    "    Jika pertanyaan terkait data riwayat penggunaan seperti:\n",
    "\n",
    "    - \"Jenis perangkat apa yang sering digunakan pengguna?\"\n",
    "    - \"Kategori perintah apa yang sering digunakan pengguna?\"\n",
    "    - \"Berapa rata-rata kepuasan pengguna sebelumnya?\"\n",
    "    - \"Berapa persentase error yang dialami pengguna sebelumnya?\"\n",
    "\n",
    "    Jawablah dengan **SQL query** yang sesuai dengan contoh tabel berikut:\n",
    "\n",
    "    **Nama Tabel:** `synthetic_data`\n",
    "\n",
    "    **Contoh Data dalam Tabel (Format JSON, hanya contoh, tidak digunakan langsung dalam query):**\n",
    "    ```json\n",
    "    [\n",
    "        {{\"interaction_id\":1,\"user_id\":447,\"timestamp\":\"2024-03-12 17:56:48\",\"device_type\":\"Smart Speaker\",\"command_category\":\"Information\",\"command_text\":\"Apa rekomendasi restoran di sekitar sini?\",\"ai_response\":\"Akses ditolak\",\"response_time_ms\":310,\"ai_confidence_score\":67.97,\"user_satisfaction\":4,\"status\":\"Error\",\"error_code\":\"ERR403\"}},\n",
    "        {{\"interaction_id\":2,\"user_id\":469,\"timestamp\":\"2024-12-01 06:40:13\",\"device_type\":\"Smartphone\",\"command_category\":\"Productivity\",\"command_text\":\"Bagikan agenda meeting dengan anggota tim\",\"ai_response\":\"Tugas telah disimpan\",\"response_time_ms\":315,\"ai_confidence_score\":70.04,\"user_satisfaction\":5,\"status\":\"Success\",\"error_code\":null}}\n",
    "    ]\n",
    "    ```\n",
    "\n",
    "    ---\n",
    "    Hanya jawab query SQL, jika tidak ada data yang sesuai dalam konteks.\n",
    "\"\"\"\n",
    "\n",
    "PROMPT_DB = \"\"\"\n",
    "    Jawab pertanyaan berdasarkan hasil query SQL yang diberikan di bawah ini:\n",
    "    {sql_query_result}\n",
    "\n",
    "    ---\n",
    "    Jawab pertanyaan berikut:\n",
    "    {question}\n",
    "\n",
    "    Jawab tanpa menyebutkan penggunaan query SQL, tetapi parafrase pertanyaan untuk memberi jawaban yang natural.\n",
    "\"\"\""
   ]
  },
  {
   "cell_type": "code",
   "execution_count": 6,
   "metadata": {},
   "outputs": [],
   "source": [
    "def query_retrieval(question: str):\n",
    "    # Load embeddings & vector store\n",
    "    embeddings = get_embeddings()\n",
    "    vector_store = FAISS.load_local(FAISS_INDEX_PATH, embeddings, allow_dangerous_deserialization=True)\n",
    "\n",
    "    # Search vector store\n",
    "    results = vector_store.similarity_search(question, k=5)\n",
    "    if not results:\n",
    "        return \"Maaf, saya tidak menemukan informasi yang relevan dalam dokumen.\"\n",
    "\n",
    "    context_text = '\\n\\n---\\n\\n'.join(doc.page_content for doc in results)\n",
    "\n",
    "    # Prepare prompt with clear formatting\n",
    "    prompt_template = ChatPromptTemplate.from_template(PROMPT_TEMPLATE)\n",
    "    prompt = prompt_template.format(context=context_text, question=question)\n",
    "\n",
    "    # Generate response using LLM\n",
    "    response = llm.invoke(prompt)\n",
    "\n",
    "    # Validate if response contains an SQL query\n",
    "    if \"SELECT\" in response.upper():  \n",
    "        try:\n",
    "            # Connect to SQLite database\n",
    "            conn = sqlite3.connect(SQL_DB_PATH)\n",
    "\n",
    "            # Execute SQL query safely\n",
    "            sql_query_result = pd.read_sql_query(response, conn)\n",
    "            conn.close()\n",
    "\n",
    "            # If DataFrame is empty, return error message\n",
    "            if sql_query_result.empty:\n",
    "                return \"Query berhasil dijalankan, tetapi tidak ada hasil yang ditemukan.\"\n",
    "\n",
    "            # Convert DataFrame to JSON format string\n",
    "            query_result_str = sql_query_result.to_json(orient=\"records\")\n",
    "\n",
    "            # Prepare second-stage prompt (SQL result → natural language)\n",
    "            prompt_db = ChatPromptTemplate.from_template(PROMPT_DB)\n",
    "            final_prompt = prompt_db.format(sql_query_result=query_result_str, question=question)\n",
    "\n",
    "            # Generate final response\n",
    "            response = llm.invoke(final_prompt)\n",
    "\n",
    "            return response\n",
    "        \n",
    "        except sqlite3.Error as e:\n",
    "            return f\"Terjadi kesalahan SQL: {e}\"\n",
    "    \n",
    "    return response"
   ]
  },
  {
   "cell_type": "code",
   "execution_count": 7,
   "metadata": {},
   "outputs": [
    {
     "name": "stdout",
     "output_type": "stream",
     "text": [
      "Rata-rata kepuasan pengguna AI Assistant X-3000 sebelumnya adalah 3,463.\n"
     ]
    }
   ],
   "source": [
    "# prompt\n",
    "question = 'Berapa rata-rata kepuasan pengguna AI Assistant X-3000 sebelumnya?'\n",
    "response = query_retrieval(question)\n",
    "print(response)"
   ]
  },
  {
   "cell_type": "code",
   "execution_count": 8,
   "metadata": {},
   "outputs": [
    {
     "name": "stdout",
     "output_type": "stream",
     "text": [
      "Teknologi pengenalan wajah yang digunakan pada AI Assistant X-3000 adalah teknologi Facial Recognition. Teknologi ini memungkinkan AI Assistant untuk mengenali dan mengakses informasi dengan menggunakan wajah pengguna.\n",
      "\n",
      "Dalam kasus AI Assistant X-3000, teknologi Facial Recognition dapat membantu AI Assistant untuk:\n",
      "\n",
      "* Mengenali pengguna dan mengakses informasi yang relevan\n",
      "* Mengontrol perangkat dengan menggunakan wajah pengguna\n",
      "* Membuat pengalaman penggunaa yang lebih personal dan interaktif\n",
      "\n",
      "Teknologi Facial Recognition juga dapat membantu meningkatkan keamanan dan privasi pengguna, karena hanya orang-orang yang memiliki wajah pengguna yang dapat mengakses informasi dan mengontrol perangkat.\n",
      "\n",
      "Dalam keseluruhan, teknologi Facial Recognition pada AI Assistant X-3000 memungkinkan pengguna untuk berinteraksi dengan AI Assistant dalam cara yang lebih intuitif dan personal.\n"
     ]
    }
   ],
   "source": [
    "# prompt\n",
    "question = 'Apa teknologi yang digunakan untuk pengenalan wajah AI Assistant X-3000?'\n",
    "response = query_retrieval(question)\n",
    "print(response)"
   ]
  },
  {
   "cell_type": "code",
   "execution_count": null,
   "metadata": {},
   "outputs": [],
   "source": []
  }
 ],
 "metadata": {
  "kernelspec": {
   "display_name": ".venv",
   "language": "python",
   "name": "python3"
  },
  "language_info": {
   "codemirror_mode": {
    "name": "ipython",
    "version": 3
   },
   "file_extension": ".py",
   "mimetype": "text/x-python",
   "name": "python",
   "nbconvert_exporter": "python",
   "pygments_lexer": "ipython3",
   "version": "3.11.4"
  }
 },
 "nbformat": 4,
 "nbformat_minor": 2
}
